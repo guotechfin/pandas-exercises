{
 "cells": [
  {
   "cell_type": "code",
   "execution_count": 2,
   "metadata": {
    "collapsed": false
   },
   "outputs": [
    {
     "data": {
      "text/plain": [
       "'0.16.2'"
      ]
     },
     "execution_count": 2,
     "metadata": {},
     "output_type": "execute_result"
    }
   ],
   "source": [
    "from pandas import *\n",
    "import matplotlib.pyplot as plt\n",
    "set_option('display.notebook_repr_html',False)\n",
    "import pandas\n",
    "pandas.__version__"
   ]
  },
  {
   "cell_type": "code",
   "execution_count": 3,
   "metadata": {
    "collapsed": true
   },
   "outputs": [],
   "source": [
    "names = read_csv('baby-names2.csv')"
   ]
  },
  {
   "cell_type": "code",
   "execution_count": 4,
   "metadata": {
    "collapsed": false
   },
   "outputs": [
    {
     "data": {
      "text/plain": [
       "   year     name      prop  sex soundex\n",
       "0  1880     John  0.081541  boy    J500\n",
       "1  1880  William  0.080511  boy    W450\n",
       "2  1880    James  0.050057  boy    J520\n",
       "3  1880  Charles  0.045167  boy    C642\n",
       "4  1880   George  0.043292  boy    G620"
      ]
     },
     "execution_count": 4,
     "metadata": {},
     "output_type": "execute_result"
    }
   ],
   "source": [
    "names.head()"
   ]
  },
  {
   "cell_type": "code",
   "execution_count": 5,
   "metadata": {
    "collapsed": true
   },
   "outputs": [],
   "source": [
    "boys = names[names.sex=='boy']\n",
    "girls = names[names.sex=='girl']"
   ]
  },
  {
   "cell_type": "code",
   "execution_count": 6,
   "metadata": {
    "collapsed": false
   },
   "outputs": [
    {
     "data": {
      "text/plain": [
       "sex\n",
       "boy     1000\n",
       "girl    1000\n",
       "dtype: int64"
      ]
     },
     "execution_count": 6,
     "metadata": {},
     "output_type": "execute_result"
    }
   ],
   "source": [
    "names.groupby(['sex','year'][::-1]).size()[2000]"
   ]
  },
  {
   "cell_type": "code",
   "execution_count": 7,
   "metadata": {
    "collapsed": false
   },
   "outputs": [
    {
     "data": {
      "text/plain": [
       "year           1900\n",
       "name           Mary\n",
       "prop       0.052567\n",
       "sex            girl\n",
       "soundex        M600\n",
       "Name: 149000, dtype: object"
      ]
     },
     "execution_count": 7,
     "metadata": {},
     "output_type": "execute_result"
    }
   ],
   "source": [
    "girls.ix[girls[girls.year==1900].prop.argmax()]\n"
   ]
  },
  {
   "cell_type": "code",
   "execution_count": 13,
   "metadata": {
    "collapsed": false
   },
   "outputs": [
    {
     "data": {
      "text/plain": [
       "1983    1000\n",
       "1887    1000\n",
       "2000    1000\n",
       "1937    1000\n",
       "2001    1000\n",
       "1938    1000\n",
       "2002    1000\n",
       "1939    1000\n",
       "2003    1000\n",
       "1940    1000\n",
       "2004    1000\n",
       "1941    1000\n",
       "2005    1000\n",
       "1942    1000\n",
       "2006    1000\n",
       "1943    1000\n",
       "2007    1000\n",
       "1880    1000\n",
       "1944    1000\n",
       "2008    1000\n",
       "1881    1000\n",
       "1945    1000\n",
       "1882    1000\n",
       "1946    1000\n",
       "1883    1000\n",
       "1947    1000\n",
       "1884    1000\n",
       "1948    1000\n",
       "1885    1000\n",
       "1949    1000\n",
       "        ... \n",
       "1895    1000\n",
       "1952    1000\n",
       "1889    1000\n",
       "1953    1000\n",
       "1890    1000\n",
       "1954    1000\n",
       "1891    1000\n",
       "1955    1000\n",
       "1892    1000\n",
       "1956    1000\n",
       "1893    1000\n",
       "1957    1000\n",
       "1894    1000\n",
       "1958    1000\n",
       "1959    1000\n",
       "1966    1000\n",
       "1896    1000\n",
       "1960    1000\n",
       "1897    1000\n",
       "1961    1000\n",
       "1898    1000\n",
       "1962    1000\n",
       "1899    1000\n",
       "1963    1000\n",
       "1900    1000\n",
       "1964    1000\n",
       "1901    1000\n",
       "1965    1000\n",
       "1902    1000\n",
       "1920    1000\n",
       "dtype: int64"
      ]
     },
     "execution_count": 13,
     "metadata": {},
     "output_type": "execute_result"
    }
   ],
   "source": [
    "boys.year.value_counts()"
   ]
  },
  {
   "cell_type": "code",
   "execution_count": 63,
   "metadata": {
    "collapsed": false
   },
   "outputs": [
    {
     "data": {
      "text/plain": [
       "        year         name      prop  sex soundex\n",
       "120000  2000        Jacob  0.016514  boy    J210\n",
       "120001  2000      Michael  0.015346  boy    M240\n",
       "120002  2000      Matthew  0.013695  boy    M300\n",
       "120003  2000       Joshua  0.013194  boy    J200\n",
       "120004  2000  Christopher  0.011990  boy    C623\n",
       "120005  2000     Nicholas  0.011815  boy    N242\n",
       "120006  2000       Andrew  0.011324  boy    A536\n",
       "120007  2000       Joseph  0.010930  boy    J210\n",
       "120008  2000       Daniel  0.010681  boy    D540\n",
       "120009  2000        Tyler  0.010305  boy    T460\n",
       "120010  2000      William  0.009896  boy    W450\n",
       "120011  2000      Brandon  0.009745  boy    B653\n",
       "120012  2000         Ryan  0.009715  boy    R500\n",
       "120013  2000         John  0.009617  boy    J500\n",
       "120014  2000      Zachary  0.009516  boy    Z260\n",
       "120015  2000        David  0.009454  boy    D130\n",
       "120016  2000      Anthony  0.009416  boy    A535\n",
       "120017  2000        James  0.008613  boy    J520\n",
       "120018  2000       Justin  0.008520  boy    J235\n",
       "120019  2000    Alexander  0.008282  boy    A425\n",
       "120020  2000     Jonathan  0.008085  boy    J535\n",
       "120021  2000    Christian  0.007693  boy    C623\n",
       "120022  2000       Austin  0.007643  boy    A235\n",
       "120023  2000        Dylan  0.007378  boy    D450\n",
       "120024  2000        Ethan  0.007298  boy    E350\n",
       "120025  2000     Benjamin  0.007108  boy    B525\n",
       "120026  2000         Noah  0.006836  boy    N000\n",
       "120027  2000       Samuel  0.006780  boy    S540\n",
       "120028  2000       Robert  0.006577  boy    R163\n",
       "120029  2000       Nathan  0.006241  boy    N350\n",
       "...      ...          ...       ...  ...     ...\n",
       "120970  2000         Alek  0.000074  boy    A420\n",
       "120971  2000      Brandyn  0.000074  boy    B653\n",
       "120972  2000      Demarco  0.000074  boy    D562\n",
       "120973  2000       Hernan  0.000073  boy    H655\n",
       "120974  2000         Amos  0.000073  boy    A520\n",
       "120975  2000           Bo  0.000073  boy    B000\n",
       "120976  2000      Branson  0.000073  boy    B652\n",
       "120977  2000       Genaro  0.000073  boy    G560\n",
       "120978  2000     Jamarcus  0.000073  boy    J562\n",
       "120979  2000         Aric  0.000072  boy    A620\n",
       "120980  2000      Barrett  0.000072  boy    B630\n",
       "120981  2000      Brennon  0.000072  boy    B655\n",
       "120982  2000          Rey  0.000072  boy    R000\n",
       "120983  2000      Braiden  0.000072  boy    B635\n",
       "120984  2000        Brant  0.000072  boy    B653\n",
       "120985  2000       Dontae  0.000072  boy    D530\n",
       "120986  2000       Jovany  0.000072  boy    J150\n",
       "120987  2000         Kale  0.000072  boy    K400\n",
       "120988  2000     Nicklaus  0.000072  boy    N242\n",
       "120989  2000      Dillion  0.000071  boy    D450\n",
       "120990  2000      Donnell  0.000071  boy    D540\n",
       "120991  2000        Kylan  0.000071  boy    K450\n",
       "120992  2000      Treyvon  0.000071  boy    T615\n",
       "120993  2000     Vincenzo  0.000071  boy    V525\n",
       "120994  2000       Zander  0.000071  boy    Z536\n",
       "120995  2000        Dayne  0.000071  boy    D500\n",
       "120996  2000    Francesco  0.000071  boy    F652\n",
       "120997  2000        Isaak  0.000071  boy    I220\n",
       "120998  2000       Lionel  0.000071  boy    L540\n",
       "120999  2000        Tracy  0.000071  boy    T620\n",
       "\n",
       "[1000 rows x 5 columns]"
      ]
     },
     "execution_count": 63,
     "metadata": {},
     "output_type": "execute_result"
    }
   ],
   "source": [
    "boys[boys.year==2000]"
   ]
  },
  {
   "cell_type": "code",
   "execution_count": 75,
   "metadata": {
    "collapsed": false
   },
   "outputs": [
    {
     "data": {
      "text/plain": [
       "year           1880\n",
       "name           John\n",
       "prop       0.081541\n",
       "sex             boy\n",
       "soundex        J500\n",
       "Name: 0, dtype: object"
      ]
     },
     "execution_count": 75,
     "metadata": {},
     "output_type": "execute_result"
    }
   ],
   "source": [
    "def get_max_record_yr(group, yr):\n",
    "    return group.ix[group[group.year==yr].prop.idxmax()]\n",
    "get_max_record(boys,1880)"
   ]
  },
  {
   "cell_type": "code",
   "execution_count": 79,
   "metadata": {
    "collapsed": false
   },
   "outputs": [],
   "source": [
    "def get_max_record(group):\n",
    "    return group.ix[group.prop.idxmax()]\n",
    "result = boys.groupby('year').apply(get_max_record)"
   ]
  },
  {
   "cell_type": "code",
   "execution_count": 80,
   "metadata": {
    "collapsed": false
   },
   "outputs": [
    {
     "data": {
      "text/plain": [
       "<matplotlib.axes._subplots.AxesSubplot at 0x109b26a90>"
      ]
     },
     "execution_count": 80,
     "metadata": {},
     "output_type": "execute_result"
    },
    {
     "data": {
      "image/png": "[encoded data removed]",
      "text/plain": [
       "<matplotlib.figure.Figure at 0x109b26650>"
      ]
     },
     "metadata": {},
     "output_type": "display_data"
    }
   ],
   "source": [
    "result.prop.plot()"
   ]
  },
  {
   "cell_type": "code",
   "execution_count": 140,
   "metadata": {
    "collapsed": false
   },
   "outputs": [],
   "source": [
    "idf = boys.set_index(['name','year']) # set index, extremely convenient"
   ]
  },
  {
   "cell_type": "code",
   "execution_count": 102,
   "metadata": {
    "collapsed": false
   },
   "outputs": [
    {
     "data": {
      "text/plain": [
       "<matplotlib.axes._subplots.AxesSubplot at 0x131f45710>"
      ]
     },
     "execution_count": 102,
     "metadata": {},
     "output_type": "execute_result"
    },
    {
     "data": {
      "image/png": "[encoded data removed]",
      "text/plain": [
       "<matplotlib.figure.Figure at 0x1322ba210>"
      ]
     },
     "metadata": {},
     "output_type": "display_data"
    }
   ],
   "source": [
    "idf.ix['Travis'].prop.plot()"
   ]
  },
  {
   "cell_type": "code",
   "execution_count": 105,
   "metadata": {
    "collapsed": false
   },
   "outputs": [
    {
     "data": {
      "text/plain": [
       "name\n",
       "Aaden        0.000442\n",
       "Aarav        0.000101\n",
       "Aaron        0.002266\n",
       "Ab           0.000044\n",
       "Abb          0.000046\n",
       "Abbie        0.000046\n",
       "Abbott       0.000044\n",
       "Abdiel       0.000092\n",
       "Abdul        0.000064\n",
       "Abdullah     0.000094\n",
       "Abe          0.000225\n",
       "Abel         0.000152\n",
       "Abelardo     0.000041\n",
       "Abie         0.000042\n",
       "Abner        0.000130\n",
       "Abraham      0.000494\n",
       "Abram        0.000105\n",
       "Ace          0.000080\n",
       "Acey         0.000042\n",
       "Acie         0.000062\n",
       "Acy          0.000046\n",
       "Ada          0.000057\n",
       "Adalberto    0.000051\n",
       "Adam         0.002242\n",
       "Adams        0.000053\n",
       "Adan         0.000131\n",
       "Add          0.000043\n",
       "Addie        0.000065\n",
       "Addison      0.000114\n",
       "Adelard      0.000065\n",
       "               ...   \n",
       "Yoshio       0.000054\n",
       "Young        0.000080\n",
       "Yurem        0.000091\n",
       "Yusuf        0.000096\n",
       "Zachariah    0.000275\n",
       "Zachary      0.003748\n",
       "Zachery      0.000369\n",
       "Zack         0.000113\n",
       "Zackary      0.000373\n",
       "Zackery      0.000232\n",
       "Zaid         0.000086\n",
       "Zaiden       0.000106\n",
       "Zain         0.000100\n",
       "Zaire        0.000100\n",
       "Zakary       0.000099\n",
       "Zander       0.000369\n",
       "Zane         0.000175\n",
       "Zavier       0.000098\n",
       "Zayden       0.000185\n",
       "Zayne        0.000091\n",
       "Zeb          0.000080\n",
       "Zebulon      0.000055\n",
       "Zechariah    0.000112\n",
       "Zed          0.000056\n",
       "Zeke         0.000055\n",
       "Zenas        0.000052\n",
       "Zeno         0.000071\n",
       "Zigmund      0.000052\n",
       "Zion         0.000490\n",
       "Zollie       0.000060\n",
       "Name: prop, dtype: float64"
      ]
     },
     "execution_count": 105,
     "metadata": {},
     "output_type": "execute_result"
    }
   ],
   "source": [
    "boys.groupby('name')['prop'].mean()"
   ]
  },
  {
   "cell_type": "code",
   "execution_count": 111,
   "metadata": {
    "collapsed": false
   },
   "outputs": [
    {
     "data": {
      "text/plain": [
       "'J500'"
      ]
     },
     "execution_count": 111,
     "metadata": {},
     "output_type": "execute_result"
    }
   ],
   "source": [
    "boys.groupby('soundex')['prop'].sum().idxmax()"
   ]
  },
  {
   "cell_type": "code",
   "execution_count": 127,
   "metadata": {
    "collapsed": false
   },
   "outputs": [
    {
     "data": {
      "text/plain": [
       "array(['John', 'Jim', 'Juan', 'Jimmie', 'Johnnie', 'Johnny', 'Johnie',\n",
       "       'Jean', 'June', 'Jonah', 'Jennie', 'Jimmy', 'Johny', 'Jonnie',\n",
       "       'Johney', 'Jamie', 'Jon', 'Joan', 'Jan', 'Jame', 'Jaime', 'Jamey',\n",
       "       'Jaimie', 'Jammie', 'Jayme', 'Juwan', 'Johan', 'Jaheim', 'Jahiem',\n",
       "       'Jaheem'], dtype=object)"
      ]
     },
     "execution_count": 127,
     "metadata": {},
     "output_type": "execute_result"
    }
   ],
   "source": [
    "boys[boys['soundex']=='J500']['name'].unique()"
   ]
  },
  {
   "cell_type": "code",
   "execution_count": 121,
   "metadata": {
    "collapsed": false
   },
   "outputs": [
    {
     "data": {
      "text/plain": [
       "<matplotlib.axes._subplots.AxesSubplot at 0x133038610>"
      ]
     },
     "execution_count": 121,
     "metadata": {},
     "output_type": "execute_result"
    },
    {
     "data": {
      "image/png": "[encoded data removed]",
      "text/plain": [
       "<matplotlib.figure.Figure at 0x133038350>"
      ]
     },
     "metadata": {},
     "output_type": "display_data"
    }
   ],
   "source": [
    "boys[boys['soundex']=='J500'].groupby('year')['prop'].sum().plot()"
   ]
  },
  {
   "cell_type": "code",
   "execution_count": 136,
   "metadata": {
    "collapsed": false
   },
   "outputs": [
    {
     "data": {
      "text/plain": [
       "name\n",
       "John           0.081541\n",
       "William        0.080511\n",
       "Robert         0.056598\n",
       "James          0.055406\n",
       "Michael        0.046564\n",
       "Charles        0.045167\n",
       "George         0.043292\n",
       "David          0.041253\n",
       "Richard        0.035667\n",
       "Jason          0.033595\n",
       "Christopher    0.032051\n",
       "Donald         0.028637\n",
       "Joseph         0.027555\n",
       "Frank          0.027380\n",
       "Mark           0.027121\n",
       "Matthew        0.026959\n",
       "Thomas         0.025261\n",
       "Brian          0.022132\n",
       "Joshua         0.021946\n",
       "Henry          0.021599\n",
       "Harry          0.021496\n",
       "Edward         0.020297\n",
       "Ronald         0.020102\n",
       "Daniel         0.020035\n",
       "Gary           0.019963\n",
       "Larry          0.018806\n",
       "Andrew         0.018573\n",
       "Steven         0.018100\n",
       "Jacob          0.017765\n",
       "Justin         0.017519\n",
       "                 ...   \n",
       "Rudolfo        0.000034\n",
       "Pamela         0.000033\n",
       "Terance        0.000033\n",
       "Brenda         0.000033\n",
       "Geoff          0.000033\n",
       "Dann           0.000032\n",
       "Tina           0.000032\n",
       "Linden         0.000032\n",
       "Cornel         0.000032\n",
       "Renard         0.000032\n",
       "Rahn           0.000032\n",
       "Lex            0.000031\n",
       "Kem            0.000031\n",
       "Kathleen       0.000031\n",
       "Patric         0.000031\n",
       "Kimball        0.000031\n",
       "Darryll        0.000031\n",
       "Mikeal         0.000031\n",
       "Erasmo         0.000030\n",
       "Diane          0.000029\n",
       "Theodis        0.000029\n",
       "Levern         0.000029\n",
       "Randolf        0.000029\n",
       "Michial        0.000029\n",
       "Cheryl         0.000028\n",
       "Dwyane         0.000028\n",
       "Deryl          0.000028\n",
       "Grayling       0.000028\n",
       "Kennard        0.000027\n",
       "Danniel        0.000027\n",
       "Name: prop, dtype: float64"
      ]
     },
     "execution_count": 136,
     "metadata": {},
     "output_type": "execute_result"
    }
   ],
   "source": [
    "boys.groupby('name')['prop'].max().order(ascending=False)"
   ]
  },
  {
   "cell_type": "code",
   "execution_count": 148,
   "metadata": {
    "collapsed": false
   },
   "outputs": [],
   "source": [
    "result = boys.groupby('year')['prop'].describe()"
   ]
  },
  {
   "cell_type": "code",
   "execution_count": 163,
   "metadata": {
    "collapsed": false
   },
   "outputs": [
    {
     "data": {
      "text/plain": [
       "year       \n",
       "1880  count    1000.000000\n",
       "      mean        0.000931\n",
       "      std         0.004871\n",
       "      min         0.000042\n",
       "      25%         0.000059\n",
       "dtype: float64"
      ]
     },
     "execution_count": 163,
     "metadata": {},
     "output_type": "execute_result"
    }
   ],
   "source": [
    "result[:5]"
   ]
  },
  {
   "cell_type": "code",
   "execution_count": 316,
   "metadata": {
    "collapsed": false
   },
   "outputs": [
    {
     "data": {
      "text/plain": [
       "array([15])"
      ]
     },
     "execution_count": 316,
     "metadata": {},
     "output_type": "execute_result"
    }
   ],
   "source": [
    "\n",
    "df = boys[boys.year==1880].sort_index(by = 'prop', ascending=False)\n",
    "df.prop.cumsum().searchsorted(0.5)\n",
    "#df.prop.cumsum()[:130]"
   ]
  },
  {
   "cell_type": "code",
   "execution_count": 252,
   "metadata": {
    "collapsed": false
   },
   "outputs": [
    {
     "data": {
      "text/plain": [
       "<matplotlib.legend.Legend at 0x1391d1410>"
      ]
     },
     "execution_count": 252,
     "metadata": {},
     "output_type": "execute_result"
    },
    {
     "data": {
      "image/png": "[encoded data removed]",
      "text/plain": [
       "<matplotlib.figure.Figure at 0x1391a23d0>"
      ]
     },
     "metadata": {},
     "output_type": "display_data"
    }
   ],
   "source": [
    "def get_quantile_count(group, quantile=0.5):\n",
    "    group = group.groupby('soundex').sum() # group by sound\n",
    "    df = group.sort_index(by = 'prop', ascending=False)\n",
    "    return df.prop.cumsum().searchsorted(quantile)[0]\n",
    "#f = lambda x: get_quantile_count(x, 0.1)\n",
    "q = 0.8\n",
    "boy_ct = boys.groupby('year').apply(get_quantile_count, quantile = q)\n",
    "girl_ct = girls.groupby('year').apply(get_quantile_count, quantile = q)\n",
    "boy_ct.plot(label='boy')\n",
    "girl_ct.plot(label='girl')\n",
    "plt.legend(loc='best')"
   ]
  },
  {
   "cell_type": "code",
   "execution_count": 346,
   "metadata": {
    "collapsed": false
   },
   "outputs": [
    {
     "name": "stdout",
     "output_type": "stream",
     "text": [
      "the prop for Patrick is 0.003016\n",
      "the rank is # 68\n"
     ]
    }
   ],
   "source": [
    "myname = 'Patrick'\n",
    "group = boys[boys.year==2000]\n",
    "myprop = group.set_index('name').prop[myname]\n",
    "print \"the prop for\", myname, \"is\", myprop\n",
    "rank = group.name.count()-group.sort_index(by='prop',ascending=True)['prop'].searchsorted(myprop)\n",
    "print 'the rank is #', rank[0]\n",
    "#group.sort_index(by='prop',ascending=False)"
   ]
  },
  {
   "cell_type": "code",
   "execution_count": 429,
   "metadata": {
    "collapsed": false
   },
   "outputs": [
    {
     "data": {
      "text/plain": [
       "[<matplotlib.lines.Line2D at 0x13b34a210>]"
      ]
     },
     "execution_count": 429,
     "metadata": {},
     "output_type": "execute_result"
    },
    {
     "data": {
      "image/png": "[encoded data removed]",
      "text/plain": [
       "<matplotlib.figure.Figure at 0x1370a2dd0>"
      ]
     },
     "metadata": {},
     "output_type": "display_data"
    }
   ],
   "source": [
    "def get_name_rank(myname, year):\n",
    "    group = boys[boys.year==year]\n",
    "    myprop = group.set_index('name').prop[myname]\n",
    "    rank = group.name.count()-group.sort_index(by='prop',ascending=True)['prop'].searchsorted(myprop)\n",
    "    return rank[0]\n",
    "#    print 'the rank is #', rank[0]\n",
    "\n",
    "ranks = [ get_name_rank('Patrick',year) for year in boys.year.unique() ]\n",
    "plt.plot(boys.year.unique(), ranks)"
   ]
  },
  {
   "cell_type": "code",
   "execution_count": 448,
   "metadata": {
    "collapsed": false
   },
   "outputs": [
    {
     "data": {
      "text/plain": [
       "year\n",
       "1880    109.0\n",
       "1881    118.0\n",
       "1882    101.5\n",
       "1883    122.0\n",
       "1884    121.0\n",
       "1885    128.0\n",
       "1886    120.5\n",
       "1887    116.0\n",
       "1888    113.0\n",
       "1889    145.5\n",
       "Name: year_rank, dtype: float64"
      ]
     },
     "execution_count": 448,
     "metadata": {},
     "output_type": "execute_result"
    }
   ],
   "source": [
    "grouped = boys.groupby('year').prop\n",
    "#boys['year_rank'] = 1001-grouped.transform(Series.rank) # one way to do it\n",
    "boys['year_rank'] = grouped.rank(ascending=False) # another way to do it\n",
    "idf = boys.set_index(['name','year'])\n",
    "idf.ix['Wesley'].year_rank[:10]"
   ]
  },
  {
   "cell_type": "code",
   "execution_count": 463,
   "metadata": {
    "collapsed": false
   },
   "outputs": [
    {
     "data": {
      "text/plain": [
       "0           1.0\n",
       "1           2.0\n",
       "2           3.0\n",
       "3           4.0\n",
       "4           5.0\n",
       "5           6.0\n",
       "6           7.0\n",
       "7           8.0\n",
       "8           9.0\n",
       "9          10.0\n",
       "10         11.0\n",
       "11         12.0\n",
       "12         13.0\n",
       "13         14.0\n",
       "14         15.0\n",
       "15         16.0\n",
       "16         17.0\n",
       "17         18.0\n",
       "18         19.0\n",
       "19         20.0\n",
       "20         21.5\n",
       "21         21.5\n",
       "22         23.0\n",
       "23         24.0\n",
       "24         25.0\n",
       "25         26.0\n",
       "26         27.0\n",
       "27         28.0\n",
       "28         29.0\n",
       "29         30.0\n",
       "          ...  \n",
       "128970    973.0\n",
       "128971    973.0\n",
       "128972    973.0\n",
       "128973    973.0\n",
       "128974    973.0\n",
       "128975    973.0\n",
       "128976    973.0\n",
       "128977    980.5\n",
       "128978    980.5\n",
       "128979    980.5\n",
       "128980    980.5\n",
       "128981    980.5\n",
       "128982    980.5\n",
       "128983    985.0\n",
       "128984    985.0\n",
       "128985    985.0\n",
       "128986    988.5\n",
       "128987    988.5\n",
       "128988    988.5\n",
       "128989    988.5\n",
       "128990    993.5\n",
       "128991    993.5\n",
       "128992    993.5\n",
       "128993    993.5\n",
       "128994    993.5\n",
       "128995    993.5\n",
       "128996    998.5\n",
       "128997    998.5\n",
       "128998    998.5\n",
       "128999    998.5\n",
       "dtype: float64"
      ]
     },
     "execution_count": 463,
     "metadata": {},
     "output_type": "execute_result"
    }
   ],
   "source": [
    "grouped = boys.groupby('year').prop\n",
    "grouped.count()\n",
    "grouped.sum()\n",
    "grouped.rank(ascending=False)\n",
    "#grouped2.groupby(boys.year).mean()"
   ]
  },
  {
   "cell_type": "code",
   "execution_count": 464,
   "metadata": {
    "collapsed": true
   },
   "outputs": [],
   "source": [
    "births = read_csv('births.csv')"
   ]
  },
  {
   "cell_type": "code",
   "execution_count": 474,
   "metadata": {
    "collapsed": false
   },
   "outputs": [],
   "source": [
    "merged = merge(names, births, on=['year','sex'])"
   ]
  },
  {
   "cell_type": "code",
   "execution_count": 475,
   "metadata": {
    "collapsed": true
   },
   "outputs": [],
   "source": [
    "merged['persons'] = np.floor(merged.prop * merged.births)"
   ]
  },
  {
   "cell_type": "code",
   "execution_count": 519,
   "metadata": {
    "collapsed": false
   },
   "outputs": [
    {
     "data": {
      "text/plain": [
       "name\n",
       "Aaden          959\n",
       "Aaliyah      39660\n",
       "Aarav          219\n",
       "Aaron       509399\n",
       "Ab              24\n",
       "Abagail       2680\n",
       "Abb             15\n",
       "Abbey        14333\n",
       "Abbie        16566\n",
       "Abbigail      6792\n",
       "Abbott           9\n",
       "Abby         47845\n",
       "Abdiel         199\n",
       "Abdul         2609\n",
       "Abdullah      2352\n",
       "Abe           6835\n",
       "Abel         30752\n",
       "Abelardo        68\n",
       "Abie             4\n",
       "Abigail     240993\n",
       "Abigale       2429\n",
       "Abigayle      3510\n",
       "Abner         2304\n",
       "Abraham      68620\n",
       "Abram         8148\n",
       "Abril         3660\n",
       "Ace            935\n",
       "Acey             4\n",
       "Achsah           3\n",
       "Acie           100\n",
       "             ...  \n",
       "Zela            11\n",
       "Zelda        10001\n",
       "Zelia           77\n",
       "Zella         9951\n",
       "Zelma        15513\n",
       "Zelpha          88\n",
       "Zena          1020\n",
       "Zenas            6\n",
       "Zeno            41\n",
       "Zenobia        562\n",
       "Zeta            11\n",
       "Zetta          501\n",
       "Zettie         305\n",
       "Zhane          592\n",
       "Zigmund        202\n",
       "Zillah          26\n",
       "Zilpah           8\n",
       "Zilpha          70\n",
       "Zina          2263\n",
       "Zion         12958\n",
       "Zita           831\n",
       "Zoa             73\n",
       "Zoe          66271\n",
       "Zoey         19335\n",
       "Zoie          4688\n",
       "Zola          4847\n",
       "Zollie          60\n",
       "Zona          3218\n",
       "Zora          4551\n",
       "Zula          3578\n",
       "Name: persons, dtype: float64"
      ]
     },
     "execution_count": 519,
     "metadata": {},
     "output_type": "execute_result"
    }
   ],
   "source": [
    "merged.groupby(['name']).persons.sum()\n"
   ]
  },
  {
   "cell_type": "code",
   "execution_count": 563,
   "metadata": {
    "collapsed": false
   },
   "outputs": [
    {
     "data": {
      "text/plain": [
       "<matplotlib.axes._subplots.AxesSubplot at 0x14bdc7a50>"
      ]
     },
     "execution_count": 563,
     "metadata": {},
     "output_type": "execute_result"
    },
    {
     "data": {
      "image/png": "[encoded data removed]",
      "text/plain": [
       "<matplotlib.figure.Figure at 0x142d43f50>"
      ]
     },
     "metadata": {},
     "output_type": "display_data"
    }
   ],
   "source": [
    "merged\n",
    "idf = merged.set_index(['year','name','sex']).persons.ix[:,:,'boy']\n",
    "idf[:,'Chris'].plot(kind='bar')"
   ]
  },
  {
   "cell_type": "code",
   "execution_count": 571,
   "metadata": {
    "collapsed": false
   },
   "outputs": [
    {
     "data": {
      "text/plain": [
       "<matplotlib.axes._subplots.AxesSubplot at 0x15137db50>"
      ]
     },
     "execution_count": 571,
     "metadata": {},
     "output_type": "execute_result"
    },
    {
     "data": {
      "image/png": "[encoded data removed]",
      "text/plain": [
       "<matplotlib.figure.Figure at 0x1513ed710>"
      ]
     },
     "metadata": {},
     "output_type": "display_data"
    }
   ],
   "source": [
    "idf\n",
    "idf.unstack('name')['Wesley'].plot()"
   ]
  },
  {
   "cell_type": "code",
   "execution_count": null,
   "metadata": {
    "collapsed": true
   },
   "outputs": [],
   "source": []
  }
 ],
 "metadata": {
  "kernelspec": {
   "display_name": "Python 2",
   "language": "python",
   "name": "python2"
  },
  "language_info": {
   "codemirror_mode": {
    "name": "ipython",
    "version": 2
   },
   "file_extension": ".py",
   "mimetype": "text/x-python",
   "name": "python",
   "nbconvert_exporter": "python",
   "pygments_lexer": "ipython2",
   "version": "2.7.10"
  }
 },
 "nbformat": 4,
 "nbformat_minor": 0
}
