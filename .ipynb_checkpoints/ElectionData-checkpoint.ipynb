{
 "cells": [
  {
   "cell_type": "code",
   "execution_count": 4,
   "metadata": {
    "collapsed": false
   },
   "outputs": [
    {
     "data": {
      "text/plain": [
       "{'Bachmann, Michelle': 'Republican',\n",
       " 'Cain, Herman': 'Republican',\n",
       " 'Gingrich, Newt': 'Republican',\n",
       " 'Huntsman, Jon': 'Republican',\n",
       " 'Johnson, Gary Earl': 'Libertarian',\n",
       " 'McCotter, Thaddeus G': 'Republican',\n",
       " 'Obama, Barack': 'Democrat',\n",
       " 'Paul, Ron': 'Republican',\n",
       " 'Pawlenty, Timothy': 'Republican',\n",
       " 'Perry, Rick': 'Republican',\n",
       " \"Roemer, Charles E. 'Buddy' III\": 'Reform',\n",
       " 'Romney, Mitt': 'Republican',\n",
       " 'Santorum, Rick': 'Republican'}"
      ]
     },
     "execution_count": 4,
     "metadata": {},
     "output_type": "execute_result"
    }
   ],
   "source": [
    "from pandas import *\n",
    "import matplotlib as mpl\n",
    "mpl.rc('figure', figsize=(12, 6))\n",
    "set_option('max_columns',18)\n",
    "months = {'JAN' : 1, 'FEB' : 2, 'MAR' : 3, 'APR' : 4, 'MAY' : 5, 'JUN' : 6,\n",
    "          'JUL' : 7, 'AUG' : 8, 'SEP' : 9, 'OCT': 10, 'NOV': 11, 'DEC' : 12}\n",
    "of_interest = ['Obama, Barack', 'Romney, Mitt', 'Santorum, Rick', \n",
    "               'Paul, Ron', 'Gingrich, Newt']\n",
    "parties = {\n",
    "  'Bachmann, Michelle': 'Republican',\n",
    "  'Romney, Mitt': 'Republican',\n",
    "  'Obama, Barack': 'Democrat',\n",
    "  \"Roemer, Charles E. 'Buddy' III\": 'Reform',\n",
    "  'Pawlenty, Timothy': 'Republican',\n",
    "  'Johnson, Gary Earl': 'Libertarian',\n",
    "  'Paul, Ron': 'Republican',\n",
    "  'Santorum, Rick': 'Republican',\n",
    "  'Cain, Herman': 'Republican',\n",
    "  'Gingrich, Newt': 'Republican',\n",
    "  'McCotter, Thaddeus G': 'Republican',\n",
    "  'Huntsman, Jon': 'Republican',\n",
    "  'Perry, Rick': 'Republican'           \n",
    " }\n",
    "parties"
   ]
  },
  {
   "cell_type": "code",
   "execution_count": 2,
   "metadata": {
    "collapsed": true
   },
   "outputs": [],
   "source": [
    "fec = read_csv('P00000001-ALL.txt')"
   ]
  },
  {
   "cell_type": "code",
   "execution_count": 3,
   "metadata": {
    "collapsed": false
   },
   "outputs": [
    {
     "data": {
      "text/plain": [
       "&lt;class &apos;pandas.core.frame.DataFrame&apos;&gt;\n",
       "Int64Index: 536041 entries, 0 to 536040\n",
       "Data columns:\n",
       "cmte_id              536041  non-null values\n",
       "cand_id              536041  non-null values\n",
       "cand_nm              536041  non-null values\n",
       "contbr_nm            536041  non-null values\n",
       "contbr_city          536026  non-null values\n",
       "contbr_st            536040  non-null values\n",
       "contbr_zip           535973  non-null values\n",
       "contbr_employer      531417  non-null values\n",
       "contbr_occupation    531448  non-null values\n",
       "contb_receipt_amt    536041  non-null values\n",
       "contb_receipt_dt     536041  non-null values\n",
       "receipt_desc         8479  non-null values\n",
       "memo_cd              49718  non-null values\n",
       "memo_text            52740  non-null values\n",
       "form_tp              536041  non-null values\n",
       "file_num             536041  non-null values\n",
       "dtypes: float64(1), int64(1), object(14)"
      ]
     },
     "execution_count": 3,
     "metadata": {},
     "output_type": "execute_result"
    }
   ],
   "source": [
    "fec"
   ]
  },
  {
   "cell_type": "code",
   "execution_count": null,
   "metadata": {
    "collapsed": true
   },
   "outputs": [],
   "source": []
  }
 ],
 "metadata": {
  "kernelspec": {
   "display_name": "Python 2",
   "language": "python",
   "name": "python2"
  },
  "language_info": {
   "codemirror_mode": {
    "name": "ipython",
    "version": 2
   },
   "file_extension": ".py",
   "mimetype": "text/x-python",
   "name": "python",
   "nbconvert_exporter": "python",
   "pygments_lexer": "ipython2",
   "version": "2.7.10"
  }
 },
 "nbformat": 4,
 "nbformat_minor": 0
}
