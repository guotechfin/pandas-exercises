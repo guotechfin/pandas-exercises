{
 "cells": [
  {
   "cell_type": "code",
   "execution_count": 11,
   "metadata": {
    "collapsed": false
   },
   "outputs": [],
   "source": [
    "from pandas import *\n",
    "import matplotlib as mpl\n",
    "set_option('display.notebook_repr_html',False)\n",
    "mpl.rc('figure', figsize=(12, 6))\n",
    "set_option('max_columns',18)\n",
    "months = {'JAN' : 1, 'FEB' : 2, 'MAR' : 3, 'APR' : 4, 'MAY' : 5, 'JUN' : 6,\n",
    "          'JUL' : 7, 'AUG' : 8, 'SEP' : 9, 'OCT': 10, 'NOV': 11, 'DEC' : 12}\n",
    "of_interest = ['Obama, Barack', 'Romney, Mitt', 'Santorum, Rick', \n",
    "               'Paul, Ron', 'Gingrich, Newt']\n",
    "parties = {\n",
    "  'Bachmann, Michelle': 'Republican',\n",
    "  'Romney, Mitt': 'Republican',\n",
    "  'Obama, Barack': 'Democrat',\n",
    "  \"Roemer, Charles E. 'Buddy' III\": 'Reform',\n",
    "  'Pawlenty, Timothy': 'Republican',\n",
    "  'Johnson, Gary Earl': 'Libertarian',\n",
    "  'Paul, Ron': 'Republican',\n",
    "  'Santorum, Rick': 'Republican',\n",
    "  'Cain, Herman': 'Republican',\n",
    "  'Gingrich, Newt': 'Republican',\n",
    "  'McCotter, Thaddeus G': 'Republican',\n",
    "  'Huntsman, Jon': 'Republican',\n",
    "  'Perry, Rick': 'Republican'           \n",
    " }"
   ]
  },
  {
   "cell_type": "code",
   "execution_count": 5,
   "metadata": {
    "collapsed": false
   },
   "outputs": [
    {
     "name": "stderr",
     "output_type": "stream",
     "text": [
      "/Users/user/anaconda/lib/python2.7/site-packages/pandas/io/parsers.py:1170: DtypeWarning: Columns (6) have mixed types. Specify dtype option on import or set low_memory=False.\n",
      "  data = self._reader.read(nrows)\n"
     ]
    }
   ],
   "source": [
    "fec = read_csv('P00000001-ALL.txt')"
   ]
  },
  {
   "cell_type": "code",
   "execution_count": 10,
   "metadata": {
    "collapsed": false
   },
   "outputs": [
    {
     "data": {
      "text/plain": [
       "{'Bachmann, Michelle': 'Republican',\n",
       " 'Cain, Herman': 'Republican',\n",
       " 'Gingrich, Newt': 'Republican',\n",
       " 'Huntsman, Jon': 'Republican',\n",
       " 'Johnson, Gary Earl': 'Libertarian',\n",
       " 'McCotter, Thaddeus G': 'Republican',\n",
       " 'Obama, Barack': 'Democrat',\n",
       " 'Paul, Ron': 'Republican',\n",
       " 'Pawlenty, Timothy': 'Republican',\n",
       " 'Perry, Rick': 'Republican',\n",
       " \"Roemer, Charles E. 'Buddy' III\": 'Reform',\n",
       " 'Romney, Mitt': 'Republican',\n",
       " 'Santorum, Rick': 'Republican'}"
      ]
     },
     "execution_count": 10,
     "metadata": {},
     "output_type": "execute_result"
    }
   ],
   "source": [
    "parties"
   ]
  },
  {
   "cell_type": "code",
   "execution_count": 50,
   "metadata": {
    "collapsed": false
   },
   "outputs": [],
   "source": [
    "parties_sr = Series(parties)\n",
    "#parties_sr.columns=['name','d']\n",
    "\n"
   ]
  },
  {
   "cell_type": "code",
   "execution_count": 68,
   "metadata": {
    "collapsed": false
   },
   "outputs": [
    {
     "data": {
      "text/plain": [
       "                           cand_nm        party  number\n",
       "0               Bachmann, Michelle   Republican       0\n",
       "1                     Cain, Herman   Republican       1\n",
       "2                   Gingrich, Newt   Republican       2\n",
       "3                    Huntsman, Jon   Republican       3\n",
       "4               Johnson, Gary Earl  Libertarian       4\n",
       "5             McCotter, Thaddeus G   Republican       5\n",
       "6                    Obama, Barack     Democrat       6\n",
       "7                        Paul, Ron   Republican       7\n",
       "8                Pawlenty, Timothy   Republican       8\n",
       "9                      Perry, Rick   Republican       9\n",
       "10  Roemer, Charles E. 'Buddy' III       Reform      10\n",
       "11                    Romney, Mitt   Republican      11\n",
       "12                  Santorum, Rick   Republican      12"
      ]
     },
     "execution_count": 68,
     "metadata": {},
     "output_type": "execute_result"
    }
   ],
   "source": [
    "parties_df = DataFrame(parties_sr,columns = ['party'])\n",
    "parties_df['number'] = np.arange(parties_df.count())\n",
    "parties_df = parties_df.reset_index('number')\n",
    "parties_df.columns = ['cand_nm','party','number']\n",
    "parties_df"
   ]
  },
  {
   "cell_type": "code",
   "execution_count": 71,
   "metadata": {
    "collapsed": false
   },
   "outputs": [
    {
     "data": {
      "text/plain": [
       "0         Republican\n",
       "1         Republican\n",
       "2         Republican\n",
       "3         Republican\n",
       "4         Republican\n",
       "5         Republican\n",
       "6         Republican\n",
       "7         Republican\n",
       "8         Republican\n",
       "9         Republican\n",
       "10        Republican\n",
       "11        Republican\n",
       "12        Republican\n",
       "13        Republican\n",
       "14        Republican\n",
       "15        Republican\n",
       "16        Republican\n",
       "17        Republican\n",
       "18        Republican\n",
       "19        Republican\n",
       "20        Republican\n",
       "21        Republican\n",
       "22        Republican\n",
       "23        Republican\n",
       "24        Republican\n",
       "25        Republican\n",
       "26        Republican\n",
       "27        Republican\n",
       "28        Republican\n",
       "29        Republican\n",
       "             ...    \n",
       "536011    Republican\n",
       "536012    Republican\n",
       "536013    Republican\n",
       "536014    Republican\n",
       "536015    Republican\n",
       "536016    Republican\n",
       "536017    Republican\n",
       "536018    Republican\n",
       "536019    Republican\n",
       "536020    Republican\n",
       "536021    Republican\n",
       "536022    Republican\n",
       "536023    Republican\n",
       "536024    Republican\n",
       "536025    Republican\n",
       "536026    Republican\n",
       "536027    Republican\n",
       "536028    Republican\n",
       "536029    Republican\n",
       "536030    Republican\n",
       "536031    Republican\n",
       "536032    Republican\n",
       "536033    Republican\n",
       "536034    Republican\n",
       "536035    Republican\n",
       "536036    Republican\n",
       "536037    Republican\n",
       "536038    Republican\n",
       "536039    Republican\n",
       "536040    Republican\n",
       "Name: party, dtype: object"
      ]
     },
     "execution_count": 71,
     "metadata": {},
     "output_type": "execute_result"
    }
   ],
   "source": [
    "merge(fec,parties_df,on=['cand_nm']).party"
   ]
  },
  {
   "cell_type": "code",
   "execution_count": 72,
   "metadata": {
    "collapsed": false
   },
   "outputs": [
    {
     "data": {
      "text/plain": [
       "0         Republican\n",
       "1         Republican\n",
       "2         Republican\n",
       "3         Republican\n",
       "4         Republican\n",
       "5         Republican\n",
       "6         Republican\n",
       "7         Republican\n",
       "8         Republican\n",
       "9         Republican\n",
       "10        Republican\n",
       "11        Republican\n",
       "12        Republican\n",
       "13        Republican\n",
       "14        Republican\n",
       "15        Republican\n",
       "16        Republican\n",
       "17        Republican\n",
       "18        Republican\n",
       "19        Republican\n",
       "20        Republican\n",
       "21        Republican\n",
       "22        Republican\n",
       "23        Republican\n",
       "24        Republican\n",
       "25        Republican\n",
       "26        Republican\n",
       "27        Republican\n",
       "28        Republican\n",
       "29        Republican\n",
       "             ...    \n",
       "536011    Republican\n",
       "536012    Republican\n",
       "536013    Republican\n",
       "536014    Republican\n",
       "536015    Republican\n",
       "536016    Republican\n",
       "536017    Republican\n",
       "536018    Republican\n",
       "536019    Republican\n",
       "536020    Republican\n",
       "536021    Republican\n",
       "536022    Republican\n",
       "536023    Republican\n",
       "536024    Republican\n",
       "536025    Republican\n",
       "536026    Republican\n",
       "536027    Republican\n",
       "536028    Republican\n",
       "536029    Republican\n",
       "536030    Republican\n",
       "536031    Republican\n",
       "536032    Republican\n",
       "536033    Republican\n",
       "536034    Republican\n",
       "536035    Republican\n",
       "536036    Republican\n",
       "536037    Republican\n",
       "536038    Republican\n",
       "536039    Republican\n",
       "536040    Republican\n",
       "Name: cand_nm, dtype: object"
      ]
     },
     "execution_count": 72,
     "metadata": {},
     "output_type": "execute_result"
    }
   ],
   "source": [
    "fec.cand_nm.map(parties)"
   ]
  },
  {
   "cell_type": "code",
   "execution_count": 73,
   "metadata": {
    "collapsed": true
   },
   "outputs": [],
   "source": [
    "fec['party'] = fec.cand_nm.map(parties)"
   ]
  },
  {
   "cell_type": "code",
   "execution_count": 81,
   "metadata": {
    "collapsed": false
   },
   "outputs": [
    {
     "data": {
      "text/plain": [
       "cmte_id                       C00410118\n",
       "cand_id                       P20002978\n",
       "cand_nm              Bachmann, Michelle\n",
       "contbr_nm               HARVEY, WILLIAM\n",
       "contbr_city                      MOBILE\n",
       "contbr_st                            AL\n",
       "contbr_zip                 3.660103e+08\n",
       "contbr_employer                 RETIRED\n",
       "contbr_occupation               RETIRED\n",
       "contb_receipt_amt                   250\n",
       "contb_receipt_dt              20-JUN-11\n",
       "receipt_desc                        NaN\n",
       "memo_cd                             NaN\n",
       "memo_text                           NaN\n",
       "form_tp                           SA17A\n",
       "file_num                         736166\n",
       "party                        Republican\n",
       "Name: 0, dtype: object"
      ]
     },
     "execution_count": 81,
     "metadata": {},
     "output_type": "execute_result"
    }
   ],
   "source": [
    "fec.ix[0]"
   ]
  },
  {
   "cell_type": "code",
   "execution_count": 86,
   "metadata": {
    "collapsed": false
   },
   "outputs": [
    {
     "data": {
      "text/plain": [
       "Democrat       292400\n",
       "Republican     237575\n",
       "Reform           5364\n",
       "Libertarian       702\n",
       "dtype: int64"
      ]
     },
     "execution_count": 86,
     "metadata": {},
     "output_type": "execute_result"
    }
   ],
   "source": [
    "fec.party.value_counts()\n"
   ]
  },
  {
   "cell_type": "code",
   "execution_count": 161,
   "metadata": {
    "collapsed": false
   },
   "outputs": [
    {
     "data": {
      "text/plain": [
       "<matplotlib.axes._subplots.AxesSubplot at 0x10fe01f50>"
      ]
     },
     "execution_count": 161,
     "metadata": {},
     "output_type": "execute_result"
    },
    {
     "data": {
      "image/png": "[encoded data removed]",
      "text/plain": [
       "<matplotlib.figure.Figure at 0x10fe1d750>"
      ]
     },
     "metadata": {},
     "output_type": "display_data"
    }
   ],
   "source": [
    "by_date = fec.groupby(['party','contb_receipt_dt2'])['contb_receipt_amt'].sum()\n",
    "by_date.unstack('party').cumsum().plot()"
   ]
  },
  {
   "cell_type": "code",
   "execution_count": 193,
   "metadata": {
    "collapsed": false
   },
   "outputs": [
    {
     "data": {
      "text/plain": [
       "party                  Democrat  Libertarian   Reform  Republican\n",
       "contb_receipt_dt2                                                \n",
       "2011-01-01        a         NaN          NaN      NaN     8600.00\n",
       "                  b         NaN          NaN      NaN     8600.00\n",
       "2011-01-03        a         NaN          NaN      NaN     4800.00\n",
       "                  b         NaN          NaN      NaN     4800.00\n",
       "2011-01-04        a         NaN          NaN      NaN     5000.00\n",
       "                  b         NaN          NaN      NaN     5000.00\n",
       "2011-01-12        a         NaN          NaN      NaN     4150.00\n",
       "                  b         NaN          NaN      NaN     4150.00\n",
       "2011-01-13        a         NaN          NaN      NaN     4000.00\n",
       "                  b         NaN          NaN      NaN     4000.00\n",
       "2011-01-14        a         NaN          NaN      NaN     6000.00\n",
       "                  b         NaN          NaN      NaN     6000.00\n",
       "2011-01-15        a         NaN          NaN      NaN      500.00\n",
       "                  b         NaN          NaN      NaN      500.00\n",
       "2011-01-16        a         NaN          NaN      NaN      750.00\n",
       "                  b         NaN          NaN      NaN      750.00\n",
       "2011-01-17        a         NaN          NaN      NaN      500.00\n",
       "                  b         NaN          NaN      NaN      500.00\n",
       "2011-01-18        a         NaN          NaN      NaN     4800.00\n",
       "                  b         NaN          NaN      NaN     4800.00\n",
       "2011-01-20        a         NaN          NaN      NaN     2650.00\n",
       "                  b         NaN          NaN      NaN     2650.00\n",
       "2011-01-21        a         NaN          NaN      NaN      250.00\n",
       "                  b         NaN          NaN      NaN      250.00\n",
       "2011-01-22        a         NaN          NaN      NaN      250.00\n",
       "                  b         NaN          NaN      NaN      250.00\n",
       "2011-01-24        a         NaN          NaN      NaN     2400.00\n",
       "                  b         NaN          NaN      NaN     2400.00\n",
       "2011-01-26        a         NaN          NaN      NaN     5400.00\n",
       "                  b         NaN          NaN      NaN     5400.00\n",
       "...                         ...          ...      ...         ...\n",
       "2012-01-17        a   298246.61          NaN    40.00   625365.77\n",
       "                  b   298246.61          NaN    40.00   625365.77\n",
       "2012-01-18        a   219002.47          NaN      NaN   888681.17\n",
       "                  b   219002.47          NaN      NaN   888681.17\n",
       "2012-01-19        a   275532.88          NaN    65.00  1066250.23\n",
       "                  b   275532.88          NaN    65.00  1066250.23\n",
       "2012-01-20        a   245166.57          NaN   386.00   401298.03\n",
       "                  b   245166.57          NaN   386.00   401298.03\n",
       "2012-01-21        a    18513.50          NaN   280.00   374261.81\n",
       "                  b    18513.50          NaN   280.00   374261.81\n",
       "2012-01-22        a    67194.23          NaN   450.00   507168.71\n",
       "                  b    67194.23          NaN   450.00   507168.71\n",
       "2012-01-23        a   337307.07          NaN   225.00   645477.15\n",
       "                  b   337307.07          NaN   225.00   645477.15\n",
       "2012-01-24        a   458909.23          NaN   500.00   462233.66\n",
       "                  b   458909.23          NaN   500.00   462233.66\n",
       "2012-01-25        a   438949.32          NaN   282.00   416931.39\n",
       "                  b   438949.32          NaN   282.00   416931.39\n",
       "2012-01-26        a   450268.94          NaN    25.00   256406.86\n",
       "                  b   450268.94          NaN    25.00   256406.86\n",
       "2012-01-27        a   305785.47          NaN  3176.37   368441.82\n",
       "                  b   305785.47          NaN  3176.37   368441.82\n",
       "2012-01-28        a   235492.85          NaN   175.00    82775.80\n",
       "                  b   235492.85          NaN   175.00    82775.80\n",
       "2012-01-29        a    93177.00          NaN   200.00    75220.02\n",
       "                  b    93177.00          NaN   200.00    75220.02\n",
       "2012-01-30        a   435921.72          NaN   130.00   255204.80\n",
       "                  b   435921.72          NaN   130.00   255204.80\n",
       "2012-01-31        a  1418410.31          NaN   150.00   869890.41\n",
       "                  b  1418410.31          NaN   150.00   869890.41\n",
       "\n",
       "[752 rows x 4 columns]"
      ]
     },
     "execution_count": 193,
     "metadata": {},
     "output_type": "execute_result"
    }
   ],
   "source": [
    "df = by_date.unstack('party')#.stack('party')\n",
    "concat([df,df], axis = 1, keys=['a','b']).stack(0)"
   ]
  },
  {
   "cell_type": "code",
   "execution_count": 107,
   "metadata": {
    "collapsed": false
   },
   "outputs": [],
   "source": [
    "dt = mystring.split('-')"
   ]
  },
  {
   "cell_type": "code",
   "execution_count": 135,
   "metadata": {
    "collapsed": false
   },
   "outputs": [
    {
     "data": {
      "text/plain": [
       "datetime.datetime(2001, 1, 1, 0, 0)"
      ]
     },
     "execution_count": 135,
     "metadata": {},
     "output_type": "execute_result"
    }
   ],
   "source": [
    "datetime(2001,1,1)"
   ]
  },
  {
   "cell_type": "code",
   "execution_count": 149,
   "metadata": {
    "collapsed": false
   },
   "outputs": [],
   "source": [
    "def newdate(mystring):\n",
    "    dt = mystring.split('-')\n",
    "#    dt = '20%s-%02d-%s' % (dt[2], int(months[dt[1]]), dt[0])\n",
    "    dt = datetime( int('20'+dt[2]), int(months[dt[1]]), int(dt[0]))\n",
    "    return dt\n",
    "#[newdate(x) for x in fec.contb_receipt_dt]\n",
    "fec['contb_receipt_dt2'] = fec.contb_receipt_dt.map(newdate)\n",
    "#%timeit fec.contb_receipt_dt.apply(newdate)"
   ]
  },
  {
   "cell_type": "code",
   "execution_count": 255,
   "metadata": {
    "collapsed": false
   },
   "outputs": [],
   "source": [
    "result = fec.groupby(['cand_nm','contbr_occupation'])['contb_receipt_amt'].sum()\n",
    "result = result.reset_index()\n",
    "#result"
   ]
  },
  {
   "cell_type": "code",
   "execution_count": 238,
   "metadata": {
    "collapsed": false
   },
   "outputs": [
    {
     "data": {
      "text/plain": [
       "cand_nm\n",
       "Paul, Ron    1556\n",
       "Name: contb_receipt_amt, dtype: float64"
      ]
     },
     "execution_count": 238,
     "metadata": {},
     "output_type": "execute_result"
    }
   ],
   "source": [
    "result[:,'ZOMBIE SLAYER']\n"
   ]
  },
  {
   "cell_type": "code",
   "execution_count": 239,
   "metadata": {
    "collapsed": false
   },
   "outputs": [],
   "source": []
  },
  {
   "cell_type": "code",
   "execution_count": 257,
   "metadata": {
    "collapsed": false
   },
   "outputs": [
    {
     "data": {
      "text/plain": [
       "                                                           contbr_occupation  \\\n",
       "cand_nm                                                                        \n",
       "Bachmann, Michelle             920                                 PRESIDENT   \n",
       "                               892                                 PHYSICIAN   \n",
       "                               555                                 HOMEMAKER   \n",
       "                               594                     INFORMATION REQUESTED   \n",
       "                               1058                                  RETIRED   \n",
       "Cain, Herman                   1536                                      CEO   \n",
       "                               2225                                PHYSICIAN   \n",
       "                               1897                                HOMEMAKER   \n",
       "                               2389                                  RETIRED   \n",
       "                               1928                    INFORMATION REQUESTED   \n",
       "Gingrich, Newt                 4065                                    OWNER   \n",
       "                               4219                                PRESIDENT   \n",
       "                               3559                                HOMEMAKER   \n",
       "                               3609   INFORMATION REQUESTED PER BEST EFFORTS   \n",
       "                               4481                                  RETIRED   \n",
       "Huntsman, Jon                  5466                                PRESIDENT   \n",
       "                               4981                                 ATTORNEY   \n",
       "                               5285                                HOMEMAKER   \n",
       "                               5559                                  RETIRED   \n",
       "                               5298   INFORMATION REQUESTED PER BEST EFFORTS   \n",
       "Johnson, Gary Earl             5769                                HOUSEWIFE   \n",
       "                               5851                            SELF-EMPLOYED   \n",
       "                               5731                               CONSULTANT   \n",
       "                               5849                            SELF EMPLOYED   \n",
       "                               5841                                  RETIRED   \n",
       "McCotter, Thaddeus G           5902                                HOMEMAKER   \n",
       "                               5914                                  RETIRED   \n",
       "                               5900                               GOVERNMENT   \n",
       "                               5908                                PHYSICIAN   \n",
       "                               5898                                EXECUTIVE   \n",
       "...                                                                      ...   \n",
       "Paul, Ron                      25801                               HOMEMAKER   \n",
       "                               28343                               REQUESTED   \n",
       "                               27643                               PHYSICIAN   \n",
       "                               24952                                ENGINEER   \n",
       "                               28455                                 RETIRED   \n",
       "Pawlenty, Timothy              30752  INFORMATION REQUESTED PER BEST EFFORTS   \n",
       "                               30895                               PRESIDENT   \n",
       "                               30511                                ATTORNEY   \n",
       "                               30971                                 RETIRED   \n",
       "                               30744                               HOMEMAKER   \n",
       "Perry, Rick                    31198                                ATTORNEY   \n",
       "                               32344                               PRESIDENT   \n",
       "                               32538                                 RETIRED   \n",
       "                               31873                               HOMEMAKER   \n",
       "                               31909  INFORMATION REQUESTED PER BEST EFFORTS   \n",
       "Roemer, Charles E. 'Buddy' III 34265                                 STUDENT   \n",
       "                               33530                               HOMEMAKER   \n",
       "                               32996                                ATTORNEY   \n",
       "                               33576                   INFORMATION REQUESTED   \n",
       "                               34117                                 RETIRED   \n",
       "Romney, Mitt                   37406                               PRESIDENT   \n",
       "                               34625                                ATTORNEY   \n",
       "                               36317                               HOMEMAKER   \n",
       "                               36411  INFORMATION REQUESTED PER BEST EFFORTS   \n",
       "                               37910                                 RETIRED   \n",
       "Santorum, Rick                 38856                                ATTORNEY   \n",
       "                               39180                               EXECUTIVE   \n",
       "                               39341    INFORMATION REQUESTED (BEST EFFORTS)   \n",
       "                               39305                               HOMEMAKER   \n",
       "                               39812                                 RETIRED   \n",
       "\n",
       "                                      contb_receipt_amt  \n",
       "cand_nm                                                  \n",
       "Bachmann, Michelle             920             68781.00  \n",
       "                               892             76134.00  \n",
       "                               555            102540.00  \n",
       "                               594            147638.89  \n",
       "                               1058           824618.05  \n",
       "Cain, Herman                   1536           125097.00  \n",
       "                               2225           125790.96  \n",
       "                               1897           153964.07  \n",
       "                               2389           779635.51  \n",
       "                               1928          3838719.32  \n",
       "Gingrich, Newt                 4065           273310.00  \n",
       "                               4219           332403.00  \n",
       "                               3559           426118.26  \n",
       "                               3609           910147.00  \n",
       "                               4481          2279602.27  \n",
       "Huntsman, Jon                  5466            92251.00  \n",
       "                               4981           143532.50  \n",
       "                               5285           241524.79  \n",
       "                               5559           352669.00  \n",
       "                               5298           354500.00  \n",
       "Johnson, Gary Earl             5769            11000.00  \n",
       "                               5851            14750.00  \n",
       "                               5731            16767.76  \n",
       "                               5849            18781.00  \n",
       "                               5841            85763.96  \n",
       "McCotter, Thaddeus G           5902             2400.00  \n",
       "                               5914             2450.00  \n",
       "                               5900             2500.00  \n",
       "                               5908             3650.00  \n",
       "                               5898             3750.00  \n",
       "...                                                 ...  \n",
       "Paul, Ron                      25801          310823.42  \n",
       "                               28343          381440.72  \n",
       "                               27643          509300.85  \n",
       "                               24952          612693.61  \n",
       "                               28455         1799513.76  \n",
       "Pawlenty, Timothy              30752          197841.18  \n",
       "                               30895          211708.92  \n",
       "                               30511          238331.10  \n",
       "                               30971          584195.00  \n",
       "                               30744          769514.95  \n",
       "Perry, Rick                    31198          768778.80  \n",
       "                               32344          845150.00  \n",
       "                               32538         1091671.00  \n",
       "                               31873         1818443.00  \n",
       "                               31909         1975508.76  \n",
       "Roemer, Charles E. 'Buddy' III 34265            6733.34  \n",
       "                               33530            8195.00  \n",
       "                               32996           14186.00  \n",
       "                               33576           18707.37  \n",
       "                               34117           73000.31  \n",
       "Romney, Mitt                   37406         1522751.99  \n",
       "                               34625         3662610.21  \n",
       "                               36317         5442013.48  \n",
       "                               36411         6394753.06  \n",
       "                               37910         6483596.24  \n",
       "Santorum, Rick                 38856          107130.00  \n",
       "                               39180          131456.55  \n",
       "                               39341          284718.10  \n",
       "                               39305          350597.75  \n",
       "                               39812          421952.98  \n",
       "\n",
       "[65 rows x 2 columns]"
      ]
     },
     "execution_count": 257,
     "metadata": {},
     "output_type": "execute_result"
    }
   ],
   "source": [
    "#result = result.reset_index() # why is this necessary??\n",
    "def top5_donors(group):\n",
    "    return group.sort_index(by='contb_receipt_amt')[-5:]\n",
    "top5_donors(result)\n",
    "result.groupby('cand_nm').apply(top5_donors)[['contbr_occupation','contb_receipt_amt']]"
   ]
  },
  {
   "cell_type": "code",
   "execution_count": null,
   "metadata": {
    "collapsed": true
   },
   "outputs": [],
   "source": []
  },
  {
   "cell_type": "code",
   "execution_count": null,
   "metadata": {
    "collapsed": true
   },
   "outputs": [],
   "source": []
  },
  {
   "cell_type": "code",
   "execution_count": null,
   "metadata": {
    "collapsed": true
   },
   "outputs": [],
   "source": []
  },
  {
   "cell_type": "code",
   "execution_count": null,
   "metadata": {
    "collapsed": true
   },
   "outputs": [],
   "source": []
  },
  {
   "cell_type": "code",
   "execution_count": null,
   "metadata": {
    "collapsed": true
   },
   "outputs": [],
   "source": []
  },
  {
   "cell_type": "code",
   "execution_count": null,
   "metadata": {
    "collapsed": true
   },
   "outputs": [],
   "source": []
  },
  {
   "cell_type": "code",
   "execution_count": null,
   "metadata": {
    "collapsed": true
   },
   "outputs": [],
   "source": []
  },
  {
   "cell_type": "code",
   "execution_count": null,
   "metadata": {
    "collapsed": true
   },
   "outputs": [],
   "source": []
  },
  {
   "cell_type": "code",
   "execution_count": null,
   "metadata": {
    "collapsed": true
   },
   "outputs": [],
   "source": []
  },
  {
   "cell_type": "code",
   "execution_count": null,
   "metadata": {
    "collapsed": true
   },
   "outputs": [],
   "source": []
  }
 ],
 "metadata": {
  "kernelspec": {
   "display_name": "Python 2",
   "language": "python",
   "name": "python2"
  },
  "language_info": {
   "codemirror_mode": {
    "name": "ipython",
    "version": 2
   },
   "file_extension": ".py",
   "mimetype": "text/x-python",
   "name": "python",
   "nbconvert_exporter": "python",
   "pygments_lexer": "ipython2",
   "version": "2.7.10"
  }
 },
 "nbformat": 4,
 "nbformat_minor": 0
}
